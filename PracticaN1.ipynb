{
 "cells": [
  {
   "cell_type": "markdown",
   "metadata": {},
   "source": [
    "# Practica\n",
    "Hacer cuatro clases => ejemplo de Herencia.\n",
    "## Ejercicio Numero 1"
   ]
  },
  {
   "cell_type": "code",
   "execution_count": 34,
   "metadata": {},
   "outputs": [],
   "source": [
    "class Empresa_de_Autos():\n",
    "    def __init__(self, modelo, color, marca, frenos, neumaticos):\n",
    "        self.modelo = modelo\n",
    "        self.color = color\n",
    "        self.marca = marca\n",
    "        self.frenos = frenos\n",
    "        self.neumaticos = neumaticos\n",
    "        \n",
    "    def encender(self):\n",
    "        print(\"Uso de Bateria\")\n",
    "    \n",
    "    def arranca(self):\n",
    "        print(\"Uso del Motor\")\n",
    "    \n",
    "    def acelera(self):\n",
    "        print(\"Velocidad\")\n",
    "    \n",
    "    def frena(self):\n",
    "        print(\"Desacelerar\")\n",
    "    \n",
    "    def __str__(self):\n",
    "        return \"modelo: {}, color: {}, marca: {}, frenos: {}, neumaticos: {}\""
   ]
  },
  {
   "cell_type": "code",
   "execution_count": 35,
   "metadata": {},
   "outputs": [],
   "source": [
    "Automoviles_de_la_empresa = Empresa_de_Autos(\"RAV4\", \"Rojo\", \"Toyota\", \"Carbocerámicos\", \"Bridgestone\")"
   ]
  },
  {
   "cell_type": "code",
   "execution_count": 36,
   "metadata": {},
   "outputs": [],
   "source": [
    "class Auto(Empresa_de_Autos):\n",
    "    \n",
    "    def __init__(self):\n",
    "        pass"
   ]
  },
  {
   "cell_type": "code",
   "execution_count": 37,
   "metadata": {},
   "outputs": [],
   "source": [
    "Vendedor = Auto()"
   ]
  },
  {
   "cell_type": "code",
   "execution_count": 38,
   "metadata": {},
   "outputs": [
    {
     "name": "stdout",
     "output_type": "stream",
     "text": [
      "modelo: {}, color: {}, marca: {}, frenos: {}, neumaticos: {}\n"
     ]
    }
   ],
   "source": [
    "Vendedor = print(Auto())"
   ]
  },
  {
   "cell_type": "markdown",
   "metadata": {},
   "source": [
    "## Ejercicio Numero 2"
   ]
  },
  {
   "cell_type": "code",
   "execution_count": 29,
   "metadata": {},
   "outputs": [],
   "source": [
    "class Anime():\n",
    "    def __init__(self, nombre, temporada, idioma, region, cancion):\n",
    "        self.nombre = nombre\n",
    "        self.temporada = temporada\n",
    "        self.idioma = idioma\n",
    "        self.region = region\n",
    "        self.cancion = cancion\n",
    "        \n",
    "    def animacion(self):\n",
    "        print(\"Edicion de Video\")\n",
    "        \n",
    "    def sonido(self):\n",
    "        print(\"Efectos de Sonido\")\n",
    "        \n",
    "    def video(self):\n",
    "        print(\"Video Inicial\")\n",
    "        \n",
    "    def personajes(self):\n",
    "        print(\"Principal, Secundario\")\n",
    "        \n",
    "    def __str__(self):\n",
    "        return \"nombre: {}, temporada: {}, idioma: {}, region: {}, cancion: {}\""
   ]
  },
  {
   "cell_type": "code",
   "execution_count": 30,
   "metadata": {},
   "outputs": [],
   "source": [
    "Video_Creativo = Anime(\"Dragon Ball Super\", 1, \"Español\", \"Tokio\", \"Limit Break X Survivor\")"
   ]
  },
  {
   "cell_type": "code",
   "execution_count": 31,
   "metadata": {},
   "outputs": [],
   "source": [
    "class Naruto(Anime):\n",
    "    \n",
    "    def __init__(self):\n",
    "        pass"
   ]
  },
  {
   "cell_type": "code",
   "execution_count": 32,
   "metadata": {},
   "outputs": [],
   "source": [
    "Sasuke = Naruto()"
   ]
  },
  {
   "cell_type": "code",
   "execution_count": 33,
   "metadata": {},
   "outputs": [
    {
     "name": "stdout",
     "output_type": "stream",
     "text": [
      "nombre: {}, temporada: {}, idioma: {}, region: {}, cancion: {}\n"
     ]
    }
   ],
   "source": [
    "Sasuke = print(Naruto())"
   ]
  },
  {
   "cell_type": "markdown",
   "metadata": {},
   "source": [
    "## Ejercicio Numero 3"
   ]
  },
  {
   "cell_type": "code",
   "execution_count": 39,
   "metadata": {},
   "outputs": [],
   "source": [
    "class Plantas():\n",
    "    def __init__(self, nombre, tipo, uso, color, aroma):\n",
    "        self.nombre = nombre\n",
    "        self.tipo = tipo\n",
    "        self.uso = uso\n",
    "        self.color = color\n",
    "        self.aroma = aroma\n",
    "        \n",
    "    def raiz(self):\n",
    "        print(\"Tipo de Raiz\")\n",
    "        \n",
    "    def tallo(self):\n",
    "        print(\"Tamaño de Crecimiento\")\n",
    "        \n",
    "    def fruto(self):\n",
    "        print(\"Tipo de Fruto\")\n",
    "        \n",
    "    def Semilla(self):\n",
    "        print(\"Nacimiento\")\n",
    "        \n",
    "    def __str__(self):\n",
    "        return \"nombre: {}, tipo: {}, uso: {}, color: {}, aroma: {}\""
   ]
  },
  {
   "cell_type": "code",
   "execution_count": 40,
   "metadata": {},
   "outputs": [],
   "source": [
    "Plantas_Decorativas = Plantas(\"Rosas\", \"Decorativas\", \"Decoracion de Espacios\", \"Blanco\", \"Brisa Fresca\")"
   ]
  },
  {
   "cell_type": "code",
   "execution_count": 41,
   "metadata": {},
   "outputs": [],
   "source": [
    "class Clavel(Plantas):\n",
    "    \n",
    "    def __init__(self):\n",
    "        pass"
   ]
  },
  {
   "cell_type": "code",
   "execution_count": 42,
   "metadata": {},
   "outputs": [],
   "source": [
    "Morado = Clavel()"
   ]
  },
  {
   "cell_type": "code",
   "execution_count": 43,
   "metadata": {},
   "outputs": [
    {
     "name": "stdout",
     "output_type": "stream",
     "text": [
      "nombre: {}, tipo: {}, uso: {}, color: {}, aroma: {}\n"
     ]
    }
   ],
   "source": [
    "Morado = print(Clavel())"
   ]
  },
  {
   "cell_type": "markdown",
   "metadata": {},
   "source": [
    "## Ejercicio Numero 4"
   ]
  },
  {
   "cell_type": "code",
   "execution_count": 47,
   "metadata": {},
   "outputs": [],
   "source": [
    "class Tienda_de_ropa():\n",
    "    def __init__(self, talla, tipo, nombre, color, material):\n",
    "        self.talla = talla\n",
    "        self.tipo = tipo\n",
    "        self.nombre = nombre\n",
    "        self.color = color\n",
    "        self.material = material\n",
    "        \n",
    "    def ventas(self):\n",
    "        print(\"Productos vendidos\")\n",
    "        \n",
    "    def productos(self):\n",
    "        print(\"Productos\")\n",
    "        \n",
    "    def compras(self):\n",
    "        print(\"Productos a adquirir\")\n",
    "        \n",
    "    def Pago_A_Plazos(self):\n",
    "        print(\"Pago a Plazos\")\n",
    "        \n",
    "    def __str__(self):\n",
    "        return \"talla: {}, tipo: {}, nombre: {}, color: {}, material: {}\""
   ]
  },
  {
   "cell_type": "code",
   "execution_count": 48,
   "metadata": {},
   "outputs": [],
   "source": [
    "pantalones = Tienda_de_ropa(\"L\", \"Prendas de Vestir\", \"Pantalon\", \"Azul\", \"poliester\")"
   ]
  },
  {
   "cell_type": "code",
   "execution_count": 49,
   "metadata": {},
   "outputs": [],
   "source": [
    "class camisas(Tienda_de_ropa):\n",
    "    \n",
    "    def __init__(self):\n",
    "        pass"
   ]
  },
  {
   "cell_type": "code",
   "execution_count": 50,
   "metadata": {},
   "outputs": [],
   "source": [
    "Camisas = camisas()"
   ]
  },
  {
   "cell_type": "code",
   "execution_count": 51,
   "metadata": {},
   "outputs": [
    {
     "name": "stdout",
     "output_type": "stream",
     "text": [
      "talla: {}, tipo: {}, nombre: {}, color: {}, material: {}\n"
     ]
    }
   ],
   "source": [
    "Camisas = print(camisas())"
   ]
  },
  {
   "cell_type": "code",
   "execution_count": null,
   "metadata": {},
   "outputs": [],
   "source": []
  }
 ],
 "metadata": {
  "kernelspec": {
   "display_name": "Python 3",
   "language": "python",
   "name": "python3"
  },
  "language_info": {
   "codemirror_mode": {
    "name": "ipython",
    "version": 3
   },
   "file_extension": ".py",
   "mimetype": "text/x-python",
   "name": "python",
   "nbconvert_exporter": "python",
   "pygments_lexer": "ipython3",
   "version": "3.7.4"
  }
 },
 "nbformat": 4,
 "nbformat_minor": 2
}
